{
  "nbformat": 4,
  "nbformat_minor": 0,
  "metadata": {
    "colab": {
      "provenance": []
    },
    "kernelspec": {
      "name": "python3",
      "display_name": "Python 3"
    },
    "language_info": {
      "name": "python"
    }
  },
  "cells": [
    {
      "cell_type": "code",
      "execution_count": 5,
      "metadata": {
        "id": "AXOKO0pSQgnW",
        "colab": {
          "base_uri": "https://localhost:8080/"
        },
        "outputId": "c03d75e0-736f-46f2-ab7b-8f94ad27763a"
      },
      "outputs": [
        {
          "output_type": "stream",
          "name": "stdout",
          "text": [
            "Move disk 1 from A to C\n",
            "Move disk 2 from A to B\n",
            "Move disk 1 from C to B\n",
            "Move disk 3 from A to C\n",
            "Move disk 1 from B to A\n",
            "Move disk 2 from B to C\n",
            "Move disk 1 from A to C\n"
          ]
        }
      ],
      "source": [
        "def tower_of_hanoi(n, source, destination, auxiliary):\n",
        "    # Base case: If only one disk, move it from source to destination.\n",
        "    if n == 1:\n",
        "        print(f\"Move disk 1 from {source} to {destination}\")\n",
        "        return\n",
        "\n",
        "    # Step 1: Move the top n-1 disks from source to auxiliary\n",
        "    tower_of_hanoi(n - 1, source, auxiliary, destination)\n",
        "\n",
        "    # Step 2: Move the nth disk from source to destination\n",
        "    print(f\"Move disk {n} from {source} to {destination}\")\n",
        "\n",
        "    # Step 3: Move the n-1 disks from auxiliary to destination\n",
        "    tower_of_hanoi(n - 1, auxiliary, destination, source)\n",
        "\n",
        "# Let's test the function with 3 disks\n",
        "tower_of_hanoi(3, 'A', 'C', 'B')\n"
      ]
    },
    {
      "cell_type": "markdown",
      "source": [
        "Explanation of the Recursive Process\n",
        "If you call tower_of_hanoi(3, 'A', 'C', 'B'), it will produce the sequence of moves required to transfer 3 disks from rod A to rod C using rod B as the auxiliary.\n",
        "\n",
        "First Level of Recursion (3 disks): The function tries to move 2 disks from A to B (using C as auxiliary), then moves the 3rd disk from A to C, and finally moves 2 disks from B to C.\n",
        "\n",
        "Second Level of Recursion (2 disks): To move 2 disks from A to B, it moves 1 disk from A to C, moves the 2nd disk from A to B, and then moves the 1 disk from C to B.\n",
        "\n",
        "Base Case Reached: When moving 1 disk, it directly moves it from the source to the destination, completing the recursive chain.\n"
      ],
      "metadata": {
        "id": "qN3Q7NOIIsZb"
      }
    },
    {
      "cell_type": "code",
      "source": [
        "def min_distance_recursive(word1, word2):\n",
        "    def helper(i, j):\n",
        "        if i == 0:\n",
        "            return j\n",
        "        if j == 0:\n",
        "            return i\n",
        "\n",
        "        if word1[i - 1] == word2[j - 1]:\n",
        "            return helper(i - 1, j - 1)\n",
        "\n",
        "\n",
        "        insert = helper(i, j - 1)\n",
        "        delete = helper(i - 1, j)\n",
        "        replace = helper(i - 1, j - 1)\n",
        "\n",
        "        return 1 + min(insert, delete, replace)\n",
        "\n",
        "    return helper(len(word1), len(word2))\n",
        "\n",
        "word1 = \"intention\"\n",
        "word2 = \"execution\"\n",
        "print(\"Minimum number of operations:\", min_distance_recursive(word1, word2))\n"
      ],
      "metadata": {
        "colab": {
          "base_uri": "https://localhost:8080/"
        },
        "id": "pqktjTo9I1Yq",
        "outputId": "7ef72de2-a96a-47f7-c686-315dba082bf0"
      },
      "execution_count": 6,
      "outputs": [
        {
          "output_type": "stream",
          "name": "stdout",
          "text": [
            "Minimum number of operations: 5\n"
          ]
        }
      ]
    },
    {
      "cell_type": "code",
      "source": [
        "def max_value(arr,n):\n",
        "  if n==1:\n",
        "    return arr[0]\n",
        "  else:\n",
        "    return max(arr[n - 1], max_value(arr,n-1))\n",
        "\n",
        "value=max_value([ 13, 1, -3, 22, 5],5)\n",
        "print(f\"The maximum value is :{value}\")"
      ],
      "metadata": {
        "colab": {
          "base_uri": "https://localhost:8080/"
        },
        "id": "vC2-J5e2J6W_",
        "outputId": "ce5d7988-e2bd-440a-d1eb-10f09f3fc7ea"
      },
      "execution_count": 12,
      "outputs": [
        {
          "output_type": "stream",
          "name": "stdout",
          "text": [
            "The maximum value is :22\n"
          ]
        }
      ]
    },
    {
      "cell_type": "code",
      "source": [
        "def sum_array(arr,n):\n",
        "  if n==1:\n",
        "    return arr[0]\n",
        "  else:\n",
        "    return arr[n-1]+sum_array(arr,n-1)\n",
        "value=sum_array([92, 23, 15, -20, 10],5)\n",
        "print(f\"The sum of the array is :{value}\")"
      ],
      "metadata": {
        "colab": {
          "base_uri": "https://localhost:8080/"
        },
        "id": "O7-aMFAwLKlj",
        "outputId": "15d2a601-8af6-45fa-902a-b09631e5506d"
      },
      "execution_count": 14,
      "outputs": [
        {
          "output_type": "stream",
          "name": "stdout",
          "text": [
            "The sum of the array is :120\n"
          ]
        }
      ]
    },
    {
      "cell_type": "code",
      "source": [
        "def is_armstrong(n, original=None, power=None):\n",
        "    if original is None:\n",
        "        original = n\n",
        "        power = len(str(n))\n",
        "\n",
        "    if n == 0:\n",
        "        return original == 0\n",
        "\n",
        "    last_digit = n % 10\n",
        "    original -= last_digit ** power\n",
        "\n",
        "    return is_armstrong(n // 10, original, power)\n",
        "\n",
        "n = 153\n",
        "if is_armstrong(n):\n",
        "    print(f\"{n} is an Armstrong number\")\n",
        "else:\n",
        "    print(f\"{n} is not an Armstrong number\")\n"
      ],
      "metadata": {
        "colab": {
          "base_uri": "https://localhost:8080/"
        },
        "id": "KzswZIR1MReH",
        "outputId": "f43eb7b2-c539-4221-c5f8-b4186fa9ec92"
      },
      "execution_count": 15,
      "outputs": [
        {
          "output_type": "stream",
          "name": "stdout",
          "text": [
            "153 is an Armstrong number\n"
          ]
        }
      ]
    },
    {
      "cell_type": "code",
      "source": [],
      "metadata": {
        "id": "CRVbEmZhOTr0"
      },
      "execution_count": null,
      "outputs": []
    }
  ]
}